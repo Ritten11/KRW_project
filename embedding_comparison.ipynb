{
 "cells": [
  {
   "cell_type": "code",
   "execution_count": 34,
   "outputs": [
    {
     "name": "stdout",
     "output_type": "stream",
     "text": [
      "17872\n"
     ]
    }
   ],
   "source": [
    "import pandas as pd\n",
    "import numpy as np\n",
    "import sklearn as sk\n",
    "import matplotlib.pyplot as plt\n",
    "import matplotlib.lines as mlines\n",
    "import seaborn as sns\n",
    "\n",
    "\n",
    "from sklearn.neighbors import NearestNeighbors\n",
    "\n",
    "\n",
    "# The settings used for the KNN analysis\n",
    "args = {'n_neighbors':100,\n",
    "        'dist_metric':'cosine',\n",
    "        'dist_algorithm':'auto', # algorithm used for calculating the distances. Should not affect outcomes, only computational complexity\n",
    "        'n_jobs':10,\n",
    "        'sim_score_method':'Intersect'}\n",
    "TOTAL_ENTITIES = 178722\n",
    "# TOTAL_ENTITIES = 132\n",
    "n_samples = int(TOTAL_ENTITIES*0.1) # Number of samples taken for the nearest neighbor calculation is set to be 5% from the total number of entities\n",
    "print(n_samples)"
   ],
   "metadata": {
    "collapsed": false,
    "ExecuteTime": {
     "start_time": "2023-06-02T15:46:07.936317Z",
     "end_time": "2023-06-02T15:46:07.986375Z"
    }
   }
  },
  {
   "cell_type": "markdown",
   "source": [
    "# Initializing functions for determining the similarity between two embeddings."
   ],
   "metadata": {
    "collapsed": false
   }
  },
  {
   "cell_type": "code",
   "execution_count": 14,
   "outputs": [],
   "source": [
    "def det_KNN(samples, embed, args):\n",
    "    model = NearestNeighbors(n_neighbors=args['n_neighbors'],\n",
    "                         metric=args['dist_metric'],\n",
    "                         algorithm=args['dist_algorithm'],\n",
    "                         n_jobs=args['n_jobs']).fit(embed)\n",
    "    _, indices = model.kneighbors(samples)\n",
    "    return [set(i) for i in indices]\n",
    "\n",
    "def calc_jaccard(set1, set2):\n",
    "    return len(set1.intersection(set2))/len(set1.union(set2))\n",
    "\n",
    "def calc_intersect(set1, set2):\n",
    "    return len(set1.intersection(set2))\n",
    "\n",
    "def detect_bin_change(target_sample, nn_set):\n",
    "    '''\n",
    "    :param target_sample: Should be a\n",
    "    :param nn_set:\n",
    "    :return:\n",
    "    '''\n",
    "    max_similarity = 0\n",
    "    most_similar_set = None\n",
    "\n",
    "    for current_set in nn_set:\n",
    "        similarity = len(current_set[1].intersection(target_sample[1]))\n",
    "        if current_set[0] == target_sample[0]:\n",
    "            print(f\"Similarity of entity with label(s) {current_set[0]}: {similarity}\")\n",
    "        if similarity > max_similarity:\n",
    "            max_similarity = similarity\n",
    "            most_similar_set = current_set\n",
    "    print(f'Max similarity with entity with label(s) {most_similar_set[0]}: {max_similarity} \\n')\n",
    "    return target_sample[0] == most_similar_set[0]\n",
    "\n",
    "def det_similarity(embed1, embed2, labels):\n",
    "    idx = np.random.choice(np.arange(len(embed1)), n_samples, replace=False)\n",
    "    embed1_sample = embed1.loc[idx]\n",
    "    embed2_sample = embed2.loc[idx]\n",
    "\n",
    "    # labels = embed1_sample['label']\n",
    "\n",
    "    print(len(embed1_sample))\n",
    "    KNN1 = det_KNN(embed1_sample.to_numpy(), embed1.to_numpy(), args)\n",
    "    KNN2 = det_KNN(embed2_sample.to_numpy(), embed2.to_numpy(), args)\n",
    "\n",
    "    if args['sim_score_method'] == 'Jaccard':\n",
    "        jaccard_scores = [calc_jaccard(nn1, nn2) for nn1, nn2 in zip(KNN1, KNN2)]\n",
    "        return jaccard_scores\n",
    "\n",
    "    elif args['sim_score_method'] == 'Intersect':\n",
    "        intersect_scores = [calc_intersect(nn1, nn2) for nn1, nn2 in zip(KNN1, KNN2)]\n",
    "        return intersect_scores\n",
    "\n",
    "    elif args['sim_score_method'] == 'Binary_change':\n",
    "        bin_change_scores = [detect_bin_change(nn, zip(labels, KNN2)) for nn in zip(labels, KNN1)]\n",
    "        return bin_change_scores\n",
    "    else:\n",
    "        raise Exception(f'Unknown similarity score: {args[\"sim_score_method\"]}')\n"
   ],
   "metadata": {
    "collapsed": false,
    "ExecuteTime": {
     "start_time": "2023-06-02T14:30:08.913161Z",
     "end_time": "2023-06-02T14:30:08.994227Z"
    }
   }
  },
  {
   "cell_type": "markdown",
   "source": [
    "# Comparing the embeddings with of the tax_NCIT graph with the embeddings of the tax_and_subset_NCIT graph"
   ],
   "metadata": {
    "collapsed": false
   }
  },
  {
   "cell_type": "code",
   "execution_count": 26,
   "outputs": [],
   "source": [
    "def det_combinations(n_reps):\n",
    "    combs = [(i, j) for i in range(n_reps) for j in range(i, n_reps) if i != j]\n",
    "    return combs\n",
    "\n",
    "\n",
    "def det_label(kg_name):\n",
    "    if kg_name == 'tax_and_subset_NCIT':\n",
    "        return 'tax+subset'\n",
    "    elif kg_name == 'tax_NCIT':\n",
    "        return 'tax'\n",
    "    elif 'pizza' in kg_name:\n",
    "        return 'pizza'\n",
    "    else:\n",
    "        raise NotImplementedError(f'Unknown knowledge graph: \"{kg_name}\"')\n",
    "\n",
    "def get_embed_location(root_dir, epoch, run):\n",
    "    return f'./data/embeddings/{root_dir}/{str(epoch)}_{str(run)}.pkl'\n",
    "\n",
    "def make_violin_plot(epochs_list, combinations, embedding_dir1, embedding_dir2):\n",
    "    mean_df = pd.DataFrame()\n",
    "    plt.figure(figsize=(4,3))\n",
    "    for comb in combinations:\n",
    "        sim_scores_df = pd.DataFrame()\n",
    "        for epochs in epochs_list:\n",
    "            kg1 = embedding_dir1.split('/')[-1]\n",
    "            print(f'determining the similarity between run {comb[0]} and {comb[1]} for {epochs} epochs of KG \"{kg1}\"')\n",
    "            sim_scores_1 = compare_embedding(get_embed_location(embedding_dir1, epochs, comb[0]), get_embed_location(embedding_dir1, epochs, comb[1]))\n",
    "            sim_scores_1['epoch'] = epochs\n",
    "            sim_scores_1['KG'] = embedding_dir1.split('/')[-1]\n",
    "\n",
    "            kg2 = embedding_dir2.split('/')[-1]\n",
    "            print(f'determining the similarity between run {comb[0]} and {comb[1]} for {epochs} epochs of KG \"{kg2}\"')\n",
    "            sim_scores_2 = compare_embedding(get_embed_location(embedding_dir2, epochs, comb[0]), get_embed_location(embedding_dir2, epochs, comb[1]))\n",
    "            sim_scores_2['epoch'] = epochs\n",
    "            sim_scores_2['KG'] = embedding_dir2.split('/')[-1]\n",
    "            sim_scores_df = pd.concat([sim_scores_df, sim_scores_1, sim_scores_2])\n",
    "        ax = sns.violinplot(data=sim_scores_df, x='sim_scores', y='epoch', orient='h',\n",
    "                            inner=None, hue=\"KG\", hue_order=[embedding_dir2.split('/')[-1], embedding_dir1.split('/')[-1]],  split=True)\n",
    "        ax.invert_yaxis()\n",
    "        for violin in ax.collections:\n",
    "            violin.set_alpha(0.1)\n",
    "\n",
    "        mean = sim_scores_df.groupby(['epoch' ,'KG']).mean()\n",
    "        print(mean)\n",
    "        mean['order'] = [i for i in range(len(epochs_list)) for _ in range(2)]\n",
    "        mean['comb'] = str(comb)*len(epochs_list)*2\n",
    "        mean_df = pd.concat([mean_df, mean])\n",
    "\n",
    "    ax = sns.scatterplot(data=mean_df, y = 'order', x='sim_scores', hue='KG', hue_order=[embedding_dir2.split('/')[-1], embedding_dir1.split('/')[-1]], marker='X')\n",
    "    handles, labels  =  ax.get_legend_handles_labels()\n",
    "    grey_cross = mlines.Line2D([], [], color='grey', marker='X', linestyle='None',\n",
    "                          markersize=5)\n",
    "    legend = ax.legend([handles[-2],  grey_cross,  handles[-1]], [det_label(labels[-2]), 'mean', det_label(labels[-1])],\n",
    "              title='KG', loc='lower center', ncol=2, bbox_to_anchor=(0.5, -0.55))\n",
    "\n",
    "    plt.ylabel('Training epochs')\n",
    "    plt.xlabel('Similarity score')\n",
    "    plt.show()\n",
    "    return mean_df\n",
    "\n",
    "def compare_embedding(loc_embed_1, loc_embed_2):\n",
    "    embeddings1 = pd.read_pickle(loc_embed_1)\n",
    "    embeddings2 = pd.read_pickle(loc_embed_2)\n",
    "    for i in range(len(embeddings1['label'])):\n",
    "        if embeddings1['IRI'].loc[i] != embeddings2['IRI'].loc[i]:\n",
    "            print(f'Inconsistent labeling: {embeddings1[\"label\"].loc[i]} - {embeddings2[\"label\"].loc[i]} at index {i}')\n",
    "    assert (embeddings1['IRI'].equals(embeddings2['IRI'])), \"all IRIs should match\"\n",
    "    labels = embeddings1['label']\n",
    "\n",
    "    sim_scores = det_similarity(embeddings1.drop(['label', 'IRI'], axis=1), embeddings2.drop(['label', 'IRI'], axis=1), labels)\n",
    "    sim_scores_df = pd.DataFrame({'sim_scores':sim_scores})\n",
    "    return sim_scores_df"
   ],
   "metadata": {
    "collapsed": false,
    "ExecuteTime": {
     "start_time": "2023-06-02T14:38:24.010885Z",
     "end_time": "2023-06-02T14:38:24.027910Z"
    }
   }
  },
  {
   "cell_type": "code",
   "execution_count": 37,
   "outputs": [
    {
     "name": "stdout",
     "output_type": "stream",
     "text": [
      "determining the similarity between run 0 and 1 for 10 epochs of KG \"tax_subset_label_NCIT\"\n",
      "17872\n",
      "determining the similarity between run 0 and 1 for 10 epochs of KG \"tax_subset_label_NCIT\"\n",
      "17872\n",
      "determining the similarity between run 0 and 1 for 20 epochs of KG \"tax_subset_label_NCIT\"\n",
      "17872\n",
      "determining the similarity between run 0 and 1 for 20 epochs of KG \"tax_subset_label_NCIT\"\n",
      "17872\n",
      "                             sim_scores\n",
      "epoch KG                               \n",
      "10    tax_subset_label_NCIT    1.363250\n",
      "20    tax_subset_label_NCIT    1.313255\n"
     ]
    },
    {
     "ename": "ValueError",
     "evalue": "Length of values (4) does not match length of index (2)",
     "output_type": "error",
     "traceback": [
      "\u001B[0;31m---------------------------------------------------------------------------\u001B[0m",
      "\u001B[0;31mValueError\u001B[0m                                Traceback (most recent call last)",
      "Cell \u001B[0;32mIn[37], line 2\u001B[0m\n\u001B[1;32m      1\u001B[0m \u001B[38;5;66;03m# WARNING: running this line takes approximantly 4 hours when comparing 5% of all entities\u001B[39;00m\n\u001B[0;32m----> 2\u001B[0m mean_sim_scores \u001B[38;5;241m=\u001B[39m \u001B[43mmake_violin_plot\u001B[49m\u001B[43m(\u001B[49m\u001B[43m[\u001B[49m\u001B[38;5;241;43m10\u001B[39;49m\u001B[43m,\u001B[49m\u001B[43m \u001B[49m\u001B[38;5;241;43m20\u001B[39;49m\u001B[43m]\u001B[49m\u001B[43m,\u001B[49m\u001B[43m \u001B[49m\u001B[43mdet_combinations\u001B[49m\u001B[43m(\u001B[49m\u001B[38;5;241;43m2\u001B[39;49m\u001B[43m)\u001B[49m\u001B[43m,\u001B[49m\u001B[43m \u001B[49m\u001B[38;5;124;43m'\u001B[39;49m\u001B[38;5;124;43mtax_subset_label_NCIT\u001B[39;49m\u001B[38;5;124;43m'\u001B[39;49m\u001B[43m,\u001B[49m\u001B[43m \u001B[49m\u001B[38;5;124;43m'\u001B[39;49m\u001B[38;5;124;43mtax_subset_label_NCIT\u001B[39;49m\u001B[38;5;124;43m'\u001B[39;49m\u001B[43m)\u001B[49m\n",
      "Cell \u001B[0;32mIn[26], line 45\u001B[0m, in \u001B[0;36mmake_violin_plot\u001B[0;34m(epochs_list, combinations, embedding_dir1, embedding_dir2)\u001B[0m\n\u001B[1;32m     43\u001B[0m mean \u001B[38;5;241m=\u001B[39m sim_scores_df\u001B[38;5;241m.\u001B[39mgroupby([\u001B[38;5;124m'\u001B[39m\u001B[38;5;124mepoch\u001B[39m\u001B[38;5;124m'\u001B[39m ,\u001B[38;5;124m'\u001B[39m\u001B[38;5;124mKG\u001B[39m\u001B[38;5;124m'\u001B[39m])\u001B[38;5;241m.\u001B[39mmean()\n\u001B[1;32m     44\u001B[0m \u001B[38;5;28mprint\u001B[39m(mean)\n\u001B[0;32m---> 45\u001B[0m \u001B[43mmean\u001B[49m\u001B[43m[\u001B[49m\u001B[38;5;124;43m'\u001B[39;49m\u001B[38;5;124;43morder\u001B[39;49m\u001B[38;5;124;43m'\u001B[39;49m\u001B[43m]\u001B[49m \u001B[38;5;241m=\u001B[39m [i \u001B[38;5;28;01mfor\u001B[39;00m i \u001B[38;5;129;01min\u001B[39;00m \u001B[38;5;28mrange\u001B[39m(\u001B[38;5;28mlen\u001B[39m(epochs_list)) \u001B[38;5;28;01mfor\u001B[39;00m _ \u001B[38;5;129;01min\u001B[39;00m \u001B[38;5;28mrange\u001B[39m(\u001B[38;5;241m2\u001B[39m)]\n\u001B[1;32m     46\u001B[0m mean[\u001B[38;5;124m'\u001B[39m\u001B[38;5;124mcomb\u001B[39m\u001B[38;5;124m'\u001B[39m] \u001B[38;5;241m=\u001B[39m \u001B[38;5;28mstr\u001B[39m(comb)\u001B[38;5;241m*\u001B[39m\u001B[38;5;28mlen\u001B[39m(epochs_list)\u001B[38;5;241m*\u001B[39m\u001B[38;5;241m2\u001B[39m\n\u001B[1;32m     47\u001B[0m mean_df \u001B[38;5;241m=\u001B[39m pd\u001B[38;5;241m.\u001B[39mconcat([mean_df, mean])\n",
      "File \u001B[0;32m~/.pyenv/versions/3.10.4/envs/KRW_project-3.10.4/lib/python3.10/site-packages/pandas/core/frame.py:3980\u001B[0m, in \u001B[0;36mDataFrame.__setitem__\u001B[0;34m(self, key, value)\u001B[0m\n\u001B[1;32m   3977\u001B[0m     \u001B[38;5;28mself\u001B[39m\u001B[38;5;241m.\u001B[39m_setitem_array([key], value)\n\u001B[1;32m   3978\u001B[0m \u001B[38;5;28;01melse\u001B[39;00m:\n\u001B[1;32m   3979\u001B[0m     \u001B[38;5;66;03m# set column\u001B[39;00m\n\u001B[0;32m-> 3980\u001B[0m     \u001B[38;5;28;43mself\u001B[39;49m\u001B[38;5;241;43m.\u001B[39;49m\u001B[43m_set_item\u001B[49m\u001B[43m(\u001B[49m\u001B[43mkey\u001B[49m\u001B[43m,\u001B[49m\u001B[43m \u001B[49m\u001B[43mvalue\u001B[49m\u001B[43m)\u001B[49m\n",
      "File \u001B[0;32m~/.pyenv/versions/3.10.4/envs/KRW_project-3.10.4/lib/python3.10/site-packages/pandas/core/frame.py:4174\u001B[0m, in \u001B[0;36mDataFrame._set_item\u001B[0;34m(self, key, value)\u001B[0m\n\u001B[1;32m   4164\u001B[0m \u001B[38;5;28;01mdef\u001B[39;00m \u001B[38;5;21m_set_item\u001B[39m(\u001B[38;5;28mself\u001B[39m, key, value) \u001B[38;5;241m-\u001B[39m\u001B[38;5;241m>\u001B[39m \u001B[38;5;28;01mNone\u001B[39;00m:\n\u001B[1;32m   4165\u001B[0m \u001B[38;5;250m    \u001B[39m\u001B[38;5;124;03m\"\"\"\u001B[39;00m\n\u001B[1;32m   4166\u001B[0m \u001B[38;5;124;03m    Add series to DataFrame in specified column.\u001B[39;00m\n\u001B[1;32m   4167\u001B[0m \n\u001B[0;32m   (...)\u001B[0m\n\u001B[1;32m   4172\u001B[0m \u001B[38;5;124;03m    ensure homogeneity.\u001B[39;00m\n\u001B[1;32m   4173\u001B[0m \u001B[38;5;124;03m    \"\"\"\u001B[39;00m\n\u001B[0;32m-> 4174\u001B[0m     value \u001B[38;5;241m=\u001B[39m \u001B[38;5;28;43mself\u001B[39;49m\u001B[38;5;241;43m.\u001B[39;49m\u001B[43m_sanitize_column\u001B[49m\u001B[43m(\u001B[49m\u001B[43mvalue\u001B[49m\u001B[43m)\u001B[49m\n\u001B[1;32m   4176\u001B[0m     \u001B[38;5;28;01mif\u001B[39;00m (\n\u001B[1;32m   4177\u001B[0m         key \u001B[38;5;129;01min\u001B[39;00m \u001B[38;5;28mself\u001B[39m\u001B[38;5;241m.\u001B[39mcolumns\n\u001B[1;32m   4178\u001B[0m         \u001B[38;5;129;01mand\u001B[39;00m value\u001B[38;5;241m.\u001B[39mndim \u001B[38;5;241m==\u001B[39m \u001B[38;5;241m1\u001B[39m\n\u001B[1;32m   4179\u001B[0m         \u001B[38;5;129;01mand\u001B[39;00m \u001B[38;5;129;01mnot\u001B[39;00m is_extension_array_dtype(value)\n\u001B[1;32m   4180\u001B[0m     ):\n\u001B[1;32m   4181\u001B[0m         \u001B[38;5;66;03m# broadcast across multiple columns if necessary\u001B[39;00m\n\u001B[1;32m   4182\u001B[0m         \u001B[38;5;28;01mif\u001B[39;00m \u001B[38;5;129;01mnot\u001B[39;00m \u001B[38;5;28mself\u001B[39m\u001B[38;5;241m.\u001B[39mcolumns\u001B[38;5;241m.\u001B[39mis_unique \u001B[38;5;129;01mor\u001B[39;00m \u001B[38;5;28misinstance\u001B[39m(\u001B[38;5;28mself\u001B[39m\u001B[38;5;241m.\u001B[39mcolumns, MultiIndex):\n",
      "File \u001B[0;32m~/.pyenv/versions/3.10.4/envs/KRW_project-3.10.4/lib/python3.10/site-packages/pandas/core/frame.py:4915\u001B[0m, in \u001B[0;36mDataFrame._sanitize_column\u001B[0;34m(self, value)\u001B[0m\n\u001B[1;32m   4912\u001B[0m     \u001B[38;5;28;01mreturn\u001B[39;00m _reindex_for_setitem(Series(value), \u001B[38;5;28mself\u001B[39m\u001B[38;5;241m.\u001B[39mindex)\n\u001B[1;32m   4914\u001B[0m \u001B[38;5;28;01mif\u001B[39;00m is_list_like(value):\n\u001B[0;32m-> 4915\u001B[0m     \u001B[43mcom\u001B[49m\u001B[38;5;241;43m.\u001B[39;49m\u001B[43mrequire_length_match\u001B[49m\u001B[43m(\u001B[49m\u001B[43mvalue\u001B[49m\u001B[43m,\u001B[49m\u001B[43m \u001B[49m\u001B[38;5;28;43mself\u001B[39;49m\u001B[38;5;241;43m.\u001B[39;49m\u001B[43mindex\u001B[49m\u001B[43m)\u001B[49m\n\u001B[1;32m   4916\u001B[0m \u001B[38;5;28;01mreturn\u001B[39;00m sanitize_array(value, \u001B[38;5;28mself\u001B[39m\u001B[38;5;241m.\u001B[39mindex, copy\u001B[38;5;241m=\u001B[39m\u001B[38;5;28;01mTrue\u001B[39;00m, allow_2d\u001B[38;5;241m=\u001B[39m\u001B[38;5;28;01mTrue\u001B[39;00m)\n",
      "File \u001B[0;32m~/.pyenv/versions/3.10.4/envs/KRW_project-3.10.4/lib/python3.10/site-packages/pandas/core/common.py:571\u001B[0m, in \u001B[0;36mrequire_length_match\u001B[0;34m(data, index)\u001B[0m\n\u001B[1;32m    567\u001B[0m \u001B[38;5;250m\u001B[39m\u001B[38;5;124;03m\"\"\"\u001B[39;00m\n\u001B[1;32m    568\u001B[0m \u001B[38;5;124;03mCheck the length of data matches the length of the index.\u001B[39;00m\n\u001B[1;32m    569\u001B[0m \u001B[38;5;124;03m\"\"\"\u001B[39;00m\n\u001B[1;32m    570\u001B[0m \u001B[38;5;28;01mif\u001B[39;00m \u001B[38;5;28mlen\u001B[39m(data) \u001B[38;5;241m!=\u001B[39m \u001B[38;5;28mlen\u001B[39m(index):\n\u001B[0;32m--> 571\u001B[0m     \u001B[38;5;28;01mraise\u001B[39;00m \u001B[38;5;167;01mValueError\u001B[39;00m(\n\u001B[1;32m    572\u001B[0m         \u001B[38;5;124m\"\u001B[39m\u001B[38;5;124mLength of values \u001B[39m\u001B[38;5;124m\"\u001B[39m\n\u001B[1;32m    573\u001B[0m         \u001B[38;5;124mf\u001B[39m\u001B[38;5;124m\"\u001B[39m\u001B[38;5;124m(\u001B[39m\u001B[38;5;132;01m{\u001B[39;00m\u001B[38;5;28mlen\u001B[39m(data)\u001B[38;5;132;01m}\u001B[39;00m\u001B[38;5;124m) \u001B[39m\u001B[38;5;124m\"\u001B[39m\n\u001B[1;32m    574\u001B[0m         \u001B[38;5;124m\"\u001B[39m\u001B[38;5;124mdoes not match length of index \u001B[39m\u001B[38;5;124m\"\u001B[39m\n\u001B[1;32m    575\u001B[0m         \u001B[38;5;124mf\u001B[39m\u001B[38;5;124m\"\u001B[39m\u001B[38;5;124m(\u001B[39m\u001B[38;5;132;01m{\u001B[39;00m\u001B[38;5;28mlen\u001B[39m(index)\u001B[38;5;132;01m}\u001B[39;00m\u001B[38;5;124m)\u001B[39m\u001B[38;5;124m\"\u001B[39m\n\u001B[1;32m    576\u001B[0m     )\n",
      "\u001B[0;31mValueError\u001B[0m: Length of values (4) does not match length of index (2)"
     ]
    },
    {
     "data": {
      "text/plain": "<Figure size 400x300 with 1 Axes>",
      "image/png": "[encoded data removed]"
     },
     "metadata": {},
     "output_type": "display_data"
    }
   ],
   "source": [
    "# WARNING: running this line takes approximantly 4 hours when comparing 5% of all entities\n",
    "mean_sim_scores = make_violin_plot([10, 20], det_combinations(2), 'tax_subset_label_NCIT', 'tax_subset_label_NCIT')"
   ],
   "metadata": {
    "collapsed": false,
    "ExecuteTime": {
     "start_time": "2023-06-02T14:41:18.849114Z",
     "end_time": "2023-06-02T14:41:19.617028Z"
    }
   }
  },
  {
   "cell_type": "code",
   "execution_count": 5,
   "outputs": [],
   "source": [
    "grouped_scores = mean_sim_scores.drop(['order'], axis=1).groupby(['epoch', 'KG'])\n",
    "mu_scores = grouped_scores.mean('sim_scores')\n",
    "mu_scores['std'] = grouped_scores.std(numeric_only=True).sim_scores"
   ],
   "metadata": {
    "collapsed": false,
    "ExecuteTime": {
     "start_time": "2023-05-31T10:17:26.683402Z",
     "end_time": "2023-05-31T10:17:26.688404Z"
    }
   }
  },
  {
   "cell_type": "code",
   "execution_count": 6,
   "outputs": [
    {
     "name": "stdout",
     "output_type": "stream",
     "text": [
      "              sim_scores       std\n",
      "epoch KG                          \n",
      "25    pizza        76.31  0.981439\n",
      "      pizza2       76.46  0.625744\n",
      "100   pizza        76.31  1.577234\n",
      "      pizza2       76.53  1.963019\n",
      "200   pizza        75.83  0.713442\n",
      "      pizza2       75.84  0.689928\n",
      "500   pizza        75.74  0.939503\n",
      "      pizza2       75.16  0.554176\n"
     ]
    }
   ],
   "source": [
    "print(mu_scores)"
   ],
   "metadata": {
    "collapsed": false,
    "ExecuteTime": {
     "start_time": "2023-05-31T10:17:29.105214Z",
     "end_time": "2023-05-31T10:17:29.166310Z"
    }
   }
  },
  {
   "cell_type": "markdown",
   "source": [
    "# Calculating ERI"
   ],
   "metadata": {
    "collapsed": false
   }
  },
  {
   "cell_type": "code",
   "execution_count": 5,
   "outputs": [],
   "source": [
    "def calc_ERI(embed1, embed2, mu_hat, jaccard=1):\n",
    "    mean_sim_score = compare_embedding(embed1, embed2).mean()\n",
    "    print(mean_sim_score[0])\n",
    "    return min(mean_sim_score[0]/mu_hat, 1) * jaccard\n",
    "\n",
    "def conduct_rank_experiment(rank_list, graph_name, training_epochs, original_runs, mod_runs, mu_hat_dict = None):\n",
    "    results = pd.DataFrame()\n",
    "    for rank_comparison in rank_list:\n",
    "        print(f'determining ERI for rank {rank_comparison}')\n",
    "        rank_df = pd.DataFrame()\n",
    "        for mod_run in range(mod_runs):\n",
    "            mod_graph_embedding = get_embed_location(f'modified_graphs/{graph_name}/{rank_comparison}', training_epochs, mod_run)\n",
    "            for original_run in range(original_runs):\n",
    "                origin_graph_embedding = get_embed_location(graph_name, training_epochs, original_run)\n",
    "                if mu_hat_dict == None:\n",
    "                    mu_hat = mu_scores.loc[(training_epochs, graph_name)].sim_scores\n",
    "                else:\n",
    "                    mu_hat = mu_hat_dict[graph_name]\n",
    "                # print(mu_hat)\n",
    "                ERI_score = pd.DataFrame({'ERI': [calc_ERI(mod_graph_embedding, origin_graph_embedding, mu_hat)], 'comparison': f'{(mod_run, original_run)}'})\n",
    "                # ERI_score['comparison'] = f'{(mod_run, original_run)}'\n",
    "                rank_df = pd.concat([rank_df, ERI_score])\n",
    "        rank_df['rank'] = rank_comparison\n",
    "        print(rank_df.ERI.mean())\n",
    "        results = pd.concat([results, rank_df])\n",
    "    results['training_epochs'] = training_epochs\n",
    "    return results\n",
    "\n"
   ],
   "metadata": {
    "collapsed": false,
    "ExecuteTime": {
     "start_time": "2023-04-12T13:33:47.945310Z",
     "end_time": "2023-04-12T13:33:47.949200Z"
    }
   }
  },
  {
   "cell_type": "code",
   "execution_count": 12,
   "outputs": [
    {
     "name": "stdout",
     "output_type": "stream",
     "text": [
      "determining ERI for rank rank_2_to_1\n",
      "1787\n",
      "1.054840514829323\n",
      "1787\n",
      "1.0587576944599888\n",
      "1787\n",
      "1.0621152770005595\n",
      "1787\n",
      "1.0649132624510353\n",
      "1787\n",
      "1.0498041410184666\n",
      "0.017547034460230097\n",
      "determining ERI for rank rank_3_to_2\n",
      "1787\n",
      "1.0503637381085618\n",
      "1787\n",
      "1.059876888640179\n",
      "1787\n",
      "1.0705092333519866\n",
      "1787\n",
      "1.0710688304420817\n",
      "1787\n",
      "1.0542809177392278\n",
      "0.01759900367589399\n",
      "determining ERI for rank rank_4_to_3\n",
      "1787\n",
      "1.0604364857302742\n",
      "1787\n",
      "1.0570789031897034\n",
      "1787\n",
      "1.0621152770005595\n",
      "1787\n",
      "1.0604364857302742\n",
      "1787\n",
      "1.059876888640179\n",
      "0.017578587198311745\n",
      "determining ERI for rank rank_5_to_4\n",
      "1787\n",
      "1.0615556799104644\n",
      "1787\n",
      "1.0643536653609402\n",
      "1787\n",
      "1.0626748740906546\n",
      "1787\n",
      "1.0542809177392278\n",
      "1787\n",
      "1.0755456071628426\n",
      "0.017639836631058472\n",
      "determining ERI for rank rank_6_to_5\n",
      "1787\n",
      "1.0671516508114158\n",
      "1787\n",
      "1.0671516508114158\n",
      "1787\n",
      "1.0621152770005595\n",
      "1787\n",
      "1.0699496362618914\n",
      "1787\n",
      "1.0609960828203693\n",
      "0.017669533325723553\n",
      "determining ERI for rank rank_7_to_6\n",
      "1787\n",
      "1.0654728595411305\n",
      "1787\n",
      "1.0649132624510353\n",
      "1787\n",
      "1.0604364857302742\n",
      "1787\n",
      "1.0665920537213207\n",
      "1787\n",
      "1.054840514829323\n",
      "0.017619420153476232\n",
      "determining ERI for rank rank_8_to_7\n",
      "1787\n",
      "1.0710688304420817\n",
      "1787\n",
      "1.0615556799104644\n",
      "1787\n",
      "1.0632344711807498\n",
      "1787\n",
      "1.0621152770005595\n",
      "1787\n",
      "1.0565193060996083\n",
      "0.017626844327142503\n",
      "determining ERI for rank rank_9_to_8\n",
      "1787\n",
      "1.067711247901511\n",
      "1787\n",
      "1.0649132624510353\n",
      "1787\n",
      "1.0632344711807498\n",
      "1787\n",
      "1.0565193060996083\n",
      "1787\n",
      "1.059876888640179\n",
      "0.017619420153476232\n",
      "determining ERI for rank rank_10_to_9\n",
      "1787\n",
      "1.0621152770005595\n",
      "1787\n",
      "1.0621152770005595\n",
      "1787\n",
      "1.0621152770005595\n",
      "1787\n",
      "1.0783435926133185\n",
      "1787\n",
      "1.059876888640179\n",
      "0.01766025310864072\n",
      "determining ERI for rank rank_11_to_10\n",
      "1787\n",
      "1.0604364857302742\n",
      "1787\n",
      "1.0643536653609402\n",
      "1787\n",
      "1.0615556799104644\n",
      "1787\n",
      "1.0587576944599888\n",
      "1787\n",
      "1.0559597090095132\n",
      "0.01758229928514488\n",
      "determining ERI for rank rank_12_to_11\n",
      "1787\n",
      "1.0688304420817012\n",
      "1787\n",
      "1.0665920537213207\n",
      "1787\n",
      "1.068270844991606\n",
      "1787\n",
      "1.0604364857302742\n",
      "1787\n",
      "1.0570789031897034\n",
      "0.017649116848141314\n",
      "determining ERI for rank rank_13_to_12\n",
      "1787\n",
      "1.0643536653609402\n",
      "1787\n",
      "1.0693900391717963\n",
      "1787\n",
      "1.0705092333519866\n",
      "1787\n",
      "1.0581980973698937\n",
      "1787\n",
      "1.072188024622272\n",
      "0.017693661890138934\n",
      "determining ERI for rank rank_14_to_13\n",
      "1787\n",
      "1.0626748740906546\n",
      "1787\n",
      "1.0643536653609402\n",
      "1787\n",
      "1.0665920537213207\n",
      "1787\n",
      "1.0710688304420817\n",
      "1787\n",
      "1.0565193060996083\n",
      "0.017649116848141314\n",
      "determining ERI for rank rank_15_to_14\n",
      "1787\n",
      "1.0621152770005595\n",
      "1787\n",
      "1.0632344711807498\n",
      "1787\n",
      "1.0688304420817012\n",
      "1787\n",
      "1.0755456071628426\n",
      "1787\n",
      "1.0665920537213207\n",
      "0.01769923002038864\n"
     ]
    }
   ],
   "source": [
    "rank_list = [f'rank_{i+1}_to_{i}' for i in range(1,15)]\n",
    "\n",
    "# WARNING: running this line takes approximantly 4 hours when comparing 5% of all entities\n",
    "results = conduct_rank_experiment(rank_list, 'tax_NCIT', 100, 5, 1, {'tax_NCIT':60.30})"
   ],
   "metadata": {
    "collapsed": false,
    "ExecuteTime": {
     "start_time": "2023-04-12T14:57:14.607104Z",
     "end_time": "2023-04-12T15:16:27.494448Z"
    }
   }
  },
  {
   "cell_type": "markdown",
   "source": [],
   "metadata": {
    "collapsed": false
   }
  },
  {
   "cell_type": "markdown",
   "source": [
    "# Creating the figure of the mean ERI"
   ],
   "metadata": {
    "collapsed": false
   }
  },
  {
   "cell_type": "code",
   "execution_count": 15,
   "outputs": [
    {
     "name": "stderr",
     "output_type": "stream",
     "text": [
      "/tmp/ipykernel_6346/2611186797.py:14: UserWarning: FixedFormatter should only be used together with FixedLocator\n",
      "  ax.set_xticklabels([f'{l.get_text().split(\"_\")[1]} to {l.get_text().split(\"_\")[3]}' for l in ax.get_xticklabels()])\n"
     ]
    },
    {
     "data": {
      "text/plain": "([0, 1, 2, 3, 4, 5, 6, 7, 8, 9, 10, 11, 12, 13],\n [Text(0, 0, '2 to 1'),\n  Text(1, 0, '3 to 2'),\n  Text(2, 0, '4 to 3'),\n  Text(3, 0, '5 to 4'),\n  Text(4, 0, '6 to 5'),\n  Text(5, 0, '7 to 6'),\n  Text(6, 0, '8 to 7'),\n  Text(7, 0, '9 to 8'),\n  Text(8, 0, '10 to 9'),\n  Text(9, 0, '11 to 10'),\n  Text(10, 0, '12 to 11'),\n  Text(11, 0, '13 to 12'),\n  Text(12, 0, '14 to 13'),\n  Text(13, 0, '15 to 14')])"
     },
     "execution_count": 15,
     "metadata": {},
     "output_type": "execute_result"
    },
    {
     "data": {
      "text/plain": "<Figure size 400x300 with 1 Axes>",
      "image/png": "[encoded data removed]"
     },
     "metadata": {},
     "output_type": "display_data"
    }
   ],
   "source": [
    "\n",
    "plt.figure(figsize=(4,3))\n",
    "grouped_results = results.groupby(['rank'])\n",
    "ERI_scores = grouped_results.mean('ERI')\n",
    "ERI_scores['std'] = grouped_results.std(numeric_only=True).ERI\n",
    "\n",
    "\n",
    "ax = sns.lineplot(data=results, x='rank', y='ERI', errorbar='sd', err_style='bars', err_kws={'capsize':5})\n",
    "\n",
    "ax.set_xticklabels([f'{l.get_text().split(\"_\")[1]} to {l.get_text().split(\"_\")[3]}' for l in ax.get_xticklabels()])\n",
    "ax.set_xlabel('Modifications between ranks')\n",
    "ax.set_ylabel('mean ERI')\n",
    "plt.xticks(rotation=45)"
   ],
   "metadata": {
    "collapsed": false,
    "ExecuteTime": {
     "start_time": "2023-04-12T16:30:01.272728Z",
     "end_time": "2023-04-12T16:30:01.590745Z"
    }
   }
  },
  {
   "cell_type": "markdown",
   "source": [
    "# Comparing loss function\n"
   ],
   "metadata": {
    "collapsed": false
   }
  },
  {
   "cell_type": "code",
   "execution_count": 176,
   "outputs": [
    {
     "data": {
      "text/plain": "<matplotlib.legend.Legend at 0x7fb0784570a0>"
     },
     "execution_count": 176,
     "metadata": {},
     "output_type": "execute_result"
    },
    {
     "data": {
      "text/plain": "<Figure size 640x480 with 1 Axes>",
      "image/png": "[encoded data removed]"
     },
     "metadata": {},
     "output_type": "display_data"
    }
   ],
   "source": [
    "loss_df = pd.DataFrame()\n",
    "\n",
    "n_runs = 5\n",
    "\n",
    "for r in range(n_runs):\n",
    "    df = pd.read_pickle(f'./data/loss_data/tax_and_subset_NCIT/{str(r)}.pkl')\n",
    "    df['run'] = str(r)*len(df)\n",
    "    loss_df = pd.concat([loss_df, df])\n",
    "\n",
    "ax = sns.lineplot(loss_df, x='epoch', y='loss', hue='run')\n",
    "handles, labels  =  ax.get_legend_handles_labels()\n",
    "ax.legend(handles, range(n_runs), title='Run')"
   ],
   "metadata": {
    "collapsed": false,
    "ExecuteTime": {
     "start_time": "2023-04-06T14:29:56.757162Z",
     "end_time": "2023-04-06T14:29:57.056156Z"
    }
   }
  }
 ],
 "metadata": {
  "kernelspec": {
   "display_name": "Python 3",
   "language": "python",
   "name": "python3"
  },
  "language_info": {
   "codemirror_mode": {
    "name": "ipython",
    "version": 2
   },
   "file_extension": ".py",
   "mimetype": "text/x-python",
   "name": "python",
   "nbconvert_exporter": "python",
   "pygments_lexer": "ipython2",
   "version": "2.7.6"
  }
 },
 "nbformat": 4,
 "nbformat_minor": 0
}
