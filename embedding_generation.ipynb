{
 "cells": [
  {
   "cell_type": "code",
   "execution_count": 1,
   "metadata": {
    "collapsed": true,
    "ExecuteTime": {
     "start_time": "2023-03-31T16:04:51.078917Z",
     "end_time": "2023-03-31T16:04:53.855798Z"
    }
   },
   "outputs": [
    {
     "name": "stdout",
     "output_type": "stream",
     "text": [
      "env: PYTHONHASHSEED=42\n"
     ]
    }
   ],
   "source": [
    "import pandas as pd\n",
    "import rdflib\n",
    "\n",
    "from pyrdf2vec import RDF2VecTransformer\n",
    "from pyrdf2vec.embedders import Word2Vec\n",
    "from pyrdf2vec.graphs import KG\n",
    "from pyrdf2vec.walkers import RandomWalker\n",
    "\n",
    "from pprint import pprint\n",
    "\n",
    "SEED = 42\n",
    "\n",
    "# Note: this is needed for reproducibility. Makes the 'random' processes within this notebook deterministic\n",
    "%env PYTHONHASHSEED=$SEED"
   ]
  },
  {
   "cell_type": "code",
   "execution_count": 29,
   "outputs": [
    {
     "name": "stdout",
     "output_type": "stream",
     "text": [
      "['http://ncicb.nci.nih.gov/xml/owl/EVS/Thesaurus.owl#C20181', 'http://ncicb.nci.nih.gov/xml/owl/EVS/Thesaurus.owl#C1908', 'http://ncicb.nci.nih.gov/xml/owl/EVS/Thesaurus.owl#C17828', 'http://ncicb.nci.nih.gov/xml/owl/EVS/Thesaurus.owl#C22188', 'http://ncicb.nci.nih.gov/xml/owl/EVS/Thesaurus.owl#C14250', 'http://ncicb.nci.nih.gov/xml/owl/EVS/Thesaurus.owl#C97325', 'http://ncicb.nci.nih.gov/xml/owl/EVS/Thesaurus.owl#C12218', 'http://ncicb.nci.nih.gov/xml/owl/EVS/Thesaurus.owl#C43431', 'http://ncicb.nci.nih.gov/xml/owl/EVS/Thesaurus.owl#C3910', 'http://ncicb.nci.nih.gov/xml/owl/EVS/Thesaurus.owl#C28428', 'http://ncicb.nci.nih.gov/xml/owl/EVS/Thesaurus.owl#C20189', 'http://ncicb.nci.nih.gov/xml/owl/EVS/Thesaurus.owl#C16612', 'http://ncicb.nci.nih.gov/xml/owl/EVS/Thesaurus.owl#C20047', 'http://ncicb.nci.nih.gov/xml/owl/EVS/Thesaurus.owl#C7057', 'http://ncicb.nci.nih.gov/xml/owl/EVS/Thesaurus.owl#C26548', 'http://ncicb.nci.nih.gov/xml/owl/EVS/Thesaurus.owl#C12913', 'http://ncicb.nci.nih.gov/xml/owl/EVS/Thesaurus.owl#C20633', 'http://ncicb.nci.nih.gov/xml/owl/EVS/Thesaurus.owl#C12219', 'http://ncicb.nci.nih.gov/xml/owl/EVS/Thesaurus.owl#C22187']\n"
     ]
    }
   ],
   "source": [
    "data = pd.read_csv(\"taxonomy_ranks/rank_0.csv\", sep=\",\",)\n",
    "entities = [entity[1][0] for entity in data[data.columns[1:]].iterrows()]\n",
    "print(entities)"
   ],
   "metadata": {
    "collapsed": false
   }
  },
  {
   "cell_type": "code",
   "execution_count": 17,
   "outputs": [
    {
     "ename": "KeyError",
     "evalue": "0",
     "output_type": "error",
     "traceback": [
      "\u001B[0;31m---------------------------------------------------------------------------\u001B[0m",
      "\u001B[0;31mKeyError\u001B[0m                                  Traceback (most recent call last)",
      "File \u001B[0;32m~/.pyenv/versions/3.9.2/envs/KRW-3.9.2/lib/python3.9/site-packages/pandas/core/indexes/base.py:3802\u001B[0m, in \u001B[0;36mIndex.get_loc\u001B[0;34m(self, key, method, tolerance)\u001B[0m\n\u001B[1;32m   3801\u001B[0m \u001B[38;5;28;01mtry\u001B[39;00m:\n\u001B[0;32m-> 3802\u001B[0m     \u001B[38;5;28;01mreturn\u001B[39;00m \u001B[38;5;28;43mself\u001B[39;49m\u001B[38;5;241;43m.\u001B[39;49m\u001B[43m_engine\u001B[49m\u001B[38;5;241;43m.\u001B[39;49m\u001B[43mget_loc\u001B[49m\u001B[43m(\u001B[49m\u001B[43mcasted_key\u001B[49m\u001B[43m)\u001B[49m\n\u001B[1;32m   3803\u001B[0m \u001B[38;5;28;01mexcept\u001B[39;00m \u001B[38;5;167;01mKeyError\u001B[39;00m \u001B[38;5;28;01mas\u001B[39;00m err:\n",
      "File \u001B[0;32m~/.pyenv/versions/3.9.2/envs/KRW-3.9.2/lib/python3.9/site-packages/pandas/_libs/index.pyx:138\u001B[0m, in \u001B[0;36mpandas._libs.index.IndexEngine.get_loc\u001B[0;34m()\u001B[0m\n",
      "File \u001B[0;32m~/.pyenv/versions/3.9.2/envs/KRW-3.9.2/lib/python3.9/site-packages/pandas/_libs/index.pyx:165\u001B[0m, in \u001B[0;36mpandas._libs.index.IndexEngine.get_loc\u001B[0;34m()\u001B[0m\n",
      "File \u001B[0;32mpandas/_libs/hashtable_class_helper.pxi:5745\u001B[0m, in \u001B[0;36mpandas._libs.hashtable.PyObjectHashTable.get_item\u001B[0;34m()\u001B[0m\n",
      "File \u001B[0;32mpandas/_libs/hashtable_class_helper.pxi:5753\u001B[0m, in \u001B[0;36mpandas._libs.hashtable.PyObjectHashTable.get_item\u001B[0;34m()\u001B[0m\n",
      "\u001B[0;31mKeyError\u001B[0m: 0",
      "\nThe above exception was the direct cause of the following exception:\n",
      "\u001B[0;31mKeyError\u001B[0m                                  Traceback (most recent call last)",
      "Cell \u001B[0;32mIn[17], line 1\u001B[0m\n\u001B[0;32m----> 1\u001B[0m \u001B[43mdata\u001B[49m\u001B[43m[\u001B[49m\u001B[43mdata\u001B[49m\u001B[38;5;241;43m.\u001B[39;49m\u001B[43mcolumns\u001B[49m\u001B[43m[\u001B[49m\u001B[38;5;241;43m1\u001B[39;49m\u001B[43m:\u001B[49m\u001B[43m]\u001B[49m\u001B[43m]\u001B[49m\u001B[43m[\u001B[49m\u001B[38;5;241;43m0\u001B[39;49m\u001B[43m]\u001B[49m\n",
      "File \u001B[0;32m~/.pyenv/versions/3.9.2/envs/KRW-3.9.2/lib/python3.9/site-packages/pandas/core/frame.py:3807\u001B[0m, in \u001B[0;36mDataFrame.__getitem__\u001B[0;34m(self, key)\u001B[0m\n\u001B[1;32m   3805\u001B[0m \u001B[38;5;28;01mif\u001B[39;00m \u001B[38;5;28mself\u001B[39m\u001B[38;5;241m.\u001B[39mcolumns\u001B[38;5;241m.\u001B[39mnlevels \u001B[38;5;241m>\u001B[39m \u001B[38;5;241m1\u001B[39m:\n\u001B[1;32m   3806\u001B[0m     \u001B[38;5;28;01mreturn\u001B[39;00m \u001B[38;5;28mself\u001B[39m\u001B[38;5;241m.\u001B[39m_getitem_multilevel(key)\n\u001B[0;32m-> 3807\u001B[0m indexer \u001B[38;5;241m=\u001B[39m \u001B[38;5;28;43mself\u001B[39;49m\u001B[38;5;241;43m.\u001B[39;49m\u001B[43mcolumns\u001B[49m\u001B[38;5;241;43m.\u001B[39;49m\u001B[43mget_loc\u001B[49m\u001B[43m(\u001B[49m\u001B[43mkey\u001B[49m\u001B[43m)\u001B[49m\n\u001B[1;32m   3808\u001B[0m \u001B[38;5;28;01mif\u001B[39;00m is_integer(indexer):\n\u001B[1;32m   3809\u001B[0m     indexer \u001B[38;5;241m=\u001B[39m [indexer]\n",
      "File \u001B[0;32m~/.pyenv/versions/3.9.2/envs/KRW-3.9.2/lib/python3.9/site-packages/pandas/core/indexes/base.py:3804\u001B[0m, in \u001B[0;36mIndex.get_loc\u001B[0;34m(self, key, method, tolerance)\u001B[0m\n\u001B[1;32m   3802\u001B[0m     \u001B[38;5;28;01mreturn\u001B[39;00m \u001B[38;5;28mself\u001B[39m\u001B[38;5;241m.\u001B[39m_engine\u001B[38;5;241m.\u001B[39mget_loc(casted_key)\n\u001B[1;32m   3803\u001B[0m \u001B[38;5;28;01mexcept\u001B[39;00m \u001B[38;5;167;01mKeyError\u001B[39;00m \u001B[38;5;28;01mas\u001B[39;00m err:\n\u001B[0;32m-> 3804\u001B[0m     \u001B[38;5;28;01mraise\u001B[39;00m \u001B[38;5;167;01mKeyError\u001B[39;00m(key) \u001B[38;5;28;01mfrom\u001B[39;00m \u001B[38;5;21;01merr\u001B[39;00m\n\u001B[1;32m   3805\u001B[0m \u001B[38;5;28;01mexcept\u001B[39;00m \u001B[38;5;167;01mTypeError\u001B[39;00m:\n\u001B[1;32m   3806\u001B[0m     \u001B[38;5;66;03m# If we have a listlike key, _check_indexing_error will raise\u001B[39;00m\n\u001B[1;32m   3807\u001B[0m     \u001B[38;5;66;03m#  InvalidIndexError. Otherwise we fall through and re-raise\u001B[39;00m\n\u001B[1;32m   3808\u001B[0m     \u001B[38;5;66;03m#  the TypeError.\u001B[39;00m\n\u001B[1;32m   3809\u001B[0m     \u001B[38;5;28mself\u001B[39m\u001B[38;5;241m.\u001B[39m_check_indexing_error(key)\n",
      "\u001B[0;31mKeyError\u001B[0m: 0"
     ]
    }
   ],
   "source": [],
   "metadata": {
    "collapsed": false
   }
  },
  {
   "cell_type": "code",
   "execution_count": 2,
   "outputs": [],
   "source": [
    "# Read a CSV file containing the entities we want to classify.\n",
    "tax_and_sub = rdflib.Graph()\n",
    "tax_and_sub.parse(\"./data/tax_NCIT.ttl\")\n",
    "\n",
    "nodes_result = list(tax_and_sub.query(\n",
    "        'SELECT DISTINCT ?s WHERE { ?s ?p ?o. }'\n",
    "        ))\n",
    "nodes = [n[0].toPython() for n in nodes_result]\n",
    "nodes.append('http://www.w3.org/2002/07/owl#Thing') # This it the top node, which is not retrieved by the query\n",
    "\n",
    "\n"
   ],
   "metadata": {
    "collapsed": false,
    "ExecuteTime": {
     "start_time": "2023-03-31T16:04:53.853797Z",
     "end_time": "2023-03-31T16:05:47.718743Z"
    }
   }
  },
  {
   "cell_type": "code",
   "execution_count": 7,
   "outputs": [
    {
     "data": {
      "text/plain": "['http://ncicb.nci.nih.gov/xml/owl/EVS/Thesaurus.owl#C19213',\n 'http://ncicb.nci.nih.gov/xml/owl/EVS/Thesaurus.owl#C12692',\n 'http://ncicb.nci.nih.gov/xml/owl/EVS/Thesaurus.owl#C49304',\n 'http://ncicb.nci.nih.gov/xml/owl/EVS/Thesaurus.owl#C154328',\n 'http://ncicb.nci.nih.gov/xml/owl/EVS/Thesaurus.owl#C168768']"
     },
     "execution_count": 7,
     "metadata": {},
     "output_type": "execute_result"
    }
   ],
   "source": [
    "nodes[:5]"
   ],
   "metadata": {
    "collapsed": false,
    "ExecuteTime": {
     "start_time": "2023-03-31T11:07:33.417696Z",
     "end_time": "2023-03-31T11:07:33.429172Z"
    }
   }
  },
  {
   "cell_type": "code",
   "execution_count": null,
   "outputs": [],
   "source": [
    "# Define our knowledge graph (here: DBPedia SPARQL endpoint).\n",
    "knowledge_graph = KG(\n",
    "    \"./data/tax_and_subset_NCIT.ttl\",\n",
    ")\n",
    "# Create our transformer, setting the embedding & walking strategy.\n",
    "transformer = RDF2VecTransformer(\n",
    "    Word2Vec(epochs=10, workers=1),\n",
    "    walkers=[RandomWalker(4, 10, with_reverse=True, n_jobs=6, random_state=SEED)],\n",
    "    # verbose=1\n",
    ")\n",
    "# Get our embeddings.\n",
    "embeddings, literals = transformer.fit_transform(knowledge_graph, nodes)\n",
    "pprint(embeddings)\n",
    "# [\n",
    "#     array([ 1.5737595e-04,  1.1333118e-03, -2.9838676e-04,  ..., -5.3064007e-04,\n",
    "#             4.3192197e-04,  1.4529384e-03], dtype=float32),\n",
    "#     array([-5.9027621e-04,  6.1689125e-04, -1.1987977e-03,  ...,  1.1066757e-03,\n",
    "#            -1.0603866e-05,  6.6087965e-04], dtype=float32),\n",
    "#     array([ 7.9996325e-04,  7.2907173e-04, -1.9482171e-04,  ...,  5.6251377e-04,\n",
    "#             4.1435464e-04,  1.4478950e-04], dtype=float32)\n",
    "# ]\n"
   ],
   "metadata": {
    "collapsed": false,
    "ExecuteTime": {
     "start_time": "2023-03-31T11:07:38.401908Z",
     "end_time": "2023-03-31T11:26:38.593222Z"
    },
    "pycharm": {
     "is_executing": true
    }
   }
  },
  {
   "cell_type": "code",
   "execution_count": 19,
   "outputs": [
    {
     "data": {
      "text/plain": "array([[-2.48261187e-02,  2.68637924e-03,  8.18032101e-02,\n         9.50704589e-02,  2.15978641e-02, -6.57694694e-03,\n         2.78740022e-02,  4.60822880e-02, -8.37882757e-02,\n         3.74557450e-02, -5.25668077e-02, -7.88679123e-02,\n         4.59200926e-02,  5.90843409e-02, -3.26629952e-02,\n        -2.96652783e-02,  5.52065531e-03,  4.68672626e-02,\n        -4.40943316e-02,  8.22621211e-03,  6.92985728e-02,\n        -1.87141616e-02,  4.10387293e-02,  3.19273546e-02,\n        -1.20328879e-02,  2.85324026e-02,  4.48823615e-04,\n         1.04119927e-02, -9.69174318e-03, -4.92214411e-02,\n         6.86163176e-03, -4.59534712e-02, -7.97690731e-03,\n         4.89961216e-03, -6.04640618e-02,  9.43439305e-02,\n         1.01081446e-01, -3.84250805e-02, -3.54930311e-02,\n         5.91934733e-02,  4.64259796e-02,  9.06899348e-02,\n        -1.11045443e-01, -1.05426960e-01, -3.43118235e-02,\n         5.55916503e-02, -6.30977936e-03, -1.50623396e-02,\n         3.11171450e-02,  1.58575960e-02, -2.13227924e-02,\n        -7.71740153e-02, -4.72314991e-02,  5.62460050e-02,\n         5.44941090e-02,  6.74603432e-02,  9.16044265e-02,\n        -9.33197737e-02, -7.44679850e-03, -9.51927081e-02,\n        -1.11067869e-01, -5.46710007e-02,  1.23521918e-02,\n        -9.20455679e-02, -4.28043976e-02,  7.65943751e-02,\n        -7.86135197e-02,  6.28559738e-02, -4.01664451e-02,\n         2.53671575e-02,  1.55704347e-02,  5.89051992e-02,\n         8.82892311e-02, -7.79381301e-03, -3.83612444e-03,\n         8.90693534e-03,  2.31662691e-02,  1.73399528e-03,\n        -7.14068934e-02, -3.22985090e-02, -8.45369622e-02,\n         1.64905358e-02,  1.61232710e-01,  3.02201901e-02,\n        -9.27473977e-02, -8.77074748e-02, -4.11497168e-02,\n        -2.59377509e-02, -4.64511290e-02, -4.44032811e-02,\n        -4.31753369e-03, -2.25418154e-02,  3.14559718e-03,\n        -5.75513691e-02, -1.56497788e-02,  5.30759431e-02,\n        -8.27549491e-04, -5.50126657e-03, -1.81768893e-03,\n         8.24870318e-02],\n       [-1.32094741e-01,  2.30998755e-01,  1.67658292e-02,\n         1.77481681e-01,  4.98313494e-02, -5.28899617e-02,\n         8.23565423e-02,  8.77628177e-02, -5.92988310e-03,\n         1.38419513e-02, -1.76308975e-02, -8.93515721e-02,\n         1.48123622e-01, -1.22306391e-03,  1.14216834e-01,\n         7.06370845e-02, -1.29703237e-02,  8.01292509e-02,\n        -1.08408876e-01, -7.77780041e-02,  7.10758045e-02,\n         9.25519317e-03,  4.43124324e-02,  1.04067642e-02,\n         2.27618534e-02,  1.80975106e-02, -1.40143000e-02,\n        -9.85394418e-02, -2.39312630e-02, -5.52026220e-02,\n         5.41383773e-02, -6.48146719e-02, -1.72700305e-02,\n        -4.80441824e-02, -2.51768772e-02,  5.18260822e-02,\n         1.01570889e-01,  2.03563850e-02, -4.91584763e-02,\n        -4.24247421e-02,  2.85006873e-02,  1.70772038e-02,\n        -1.23505900e-02, -3.62514779e-02,  1.25982329e-01,\n        -6.79486617e-02, -1.00346483e-01, -2.29892917e-02,\n         3.93532403e-03,  1.16025908e-02,  1.14587005e-02,\n        -1.94716379e-01, -1.00433484e-01, -1.84072740e-02,\n        -3.59212123e-02,  8.00848845e-03, -2.79907826e-02,\n        -6.17909282e-02, -8.30346942e-02, -1.25178928e-02,\n        -3.07928976e-02,  4.00137603e-02,  8.65160301e-02,\n        -2.07929239e-02, -1.15501173e-01,  3.81675847e-02,\n         1.38807714e-01,  1.62254348e-01, -1.88284181e-02,\n         3.99112962e-02,  1.18615307e-01,  9.40177068e-02,\n         8.40820000e-02,  9.85530168e-02, -3.89312617e-02,\n         6.74296468e-02, -1.25191100e-02,  9.31985155e-02,\n        -3.85881332e-03,  2.49845218e-02, -5.77113107e-02,\n        -7.72437155e-02,  1.93540715e-02, -5.66838421e-02,\n        -5.01590930e-02, -1.74606182e-02,  1.11006819e-01,\n        -8.39001313e-02, -5.31082191e-02, -1.03724867e-01,\n         1.29578076e-02,  7.80042307e-03,  4.61724252e-02,\n         1.72872692e-02,  1.37699485e-01,  1.44611120e-01,\n         6.22563027e-02, -4.21475843e-02,  8.61602724e-02,\n         7.06823543e-02],\n       [-1.29344791e-01,  9.47092026e-02,  7.35470280e-02,\n         2.21020758e-01,  9.70426053e-02, -2.50367764e-02,\n         1.77317187e-01, -2.68488238e-03, -7.81102851e-02,\n        -2.00000387e-02,  1.95493586e-02, -1.42367154e-01,\n         1.71003073e-01,  4.22283774e-03,  8.38445276e-02,\n         1.41106397e-01,  1.14877246e-01,  2.00772416e-02,\n        -1.60458699e-01, -1.10646702e-01,  1.07954562e-01,\n         7.56493062e-02,  9.70564261e-02,  1.04326651e-01,\n        -3.12594324e-02,  7.60364905e-02, -2.57068723e-02,\n        -1.47899121e-01, -1.65312625e-02, -1.47773981e-01,\n         1.08405069e-01, -5.17194793e-02,  1.70986056e-02,\n         1.25074144e-02, -9.88641679e-02,  8.72805864e-02,\n         6.84351698e-02,  5.93413971e-02,  1.59064075e-05,\n        -4.05709818e-02,  8.88139606e-02,  7.94301331e-02,\n         6.25189999e-03, -8.51493627e-02,  3.04877944e-02,\n         4.24395017e-02, -1.97093040e-01, -6.48477301e-02,\n         3.22513953e-02,  3.06914803e-02, -6.80224001e-02,\n        -1.56241760e-01, -8.45556781e-02, -9.69700217e-02,\n        -7.82624409e-02,  1.40951917e-01,  2.25055846e-03,\n        -9.14542675e-02, -1.08996071e-01, -6.05190210e-02,\n        -5.66811301e-02, -9.25459117e-02,  2.86495704e-02,\n        -1.03704937e-01, -1.10665634e-01,  1.77238792e-01,\n         4.09365296e-02,  8.76490846e-02,  1.58221321e-03,\n        -8.07683915e-03,  2.91818921e-02,  2.60063615e-02,\n         9.09833983e-02, -2.86366604e-02, -3.32805105e-02,\n         9.92390662e-02,  5.78151196e-02,  1.89285651e-02,\n        -7.22113401e-02, -6.56375065e-02, -1.30823463e-01,\n        -7.30743185e-02,  2.13012155e-02, -8.45864415e-03,\n         2.24219169e-02, -1.75543297e-02,  1.35339960e-01,\n        -1.68038234e-01, -6.63043484e-02, -1.74740702e-01,\n        -7.54971579e-02, -5.68112582e-02,  1.68518201e-02,\n         8.50943103e-02,  4.44774143e-02,  2.80916411e-02,\n         3.53036821e-02, -4.31182161e-02,  1.01090737e-01,\n         1.74369335e-01],\n       [-1.71195492e-01,  2.64737666e-01,  1.59692407e-01,\n         4.07058187e-02, -1.16703220e-01, -4.21612784e-02,\n         1.11297593e-01,  1.90450788e-01, -9.45155621e-02,\n         5.90075776e-02, -9.02550146e-02, -1.12115078e-01,\n         1.04903199e-01, -1.23766772e-02,  1.43093333e-01,\n         3.89486402e-02, -2.49326732e-02,  6.55957460e-02,\n        -3.59446816e-02, -1.57626480e-01,  3.08278184e-02,\n        -1.26654916e-02,  1.13174720e-02,  7.09189922e-02,\n        -1.42590059e-02,  9.26586911e-02, -1.56039270e-02,\n        -8.37833881e-02, -1.46434503e-02, -7.48690814e-02,\n         1.17071502e-01, -1.13952041e-01, -2.63576098e-02,\n        -4.50220145e-02,  3.80474143e-02,  4.78578582e-02,\n         2.19103232e-01, -3.99007322e-03, -3.80077772e-02,\n        -5.51981367e-02,  1.31847650e-01,  5.53632267e-02,\n        -1.10381827e-01, -3.91423143e-02,  3.93333565e-03,\n        -1.24660917e-01, -1.10899899e-02, -4.38051019e-03,\n         2.58932356e-02,  3.50528955e-02,  1.61659271e-02,\n        -2.66987979e-01, -9.48149115e-02, -2.75781546e-02,\n         5.81765436e-02,  2.91819349e-02,  7.97245577e-02,\n        -1.28340319e-01, -9.63665843e-02, -2.21065450e-02,\n        -9.11545381e-02,  2.81085074e-02,  5.15103936e-02,\n         1.67822689e-02, -1.38863370e-01,  7.31892064e-02,\n         9.65156034e-02,  1.40801638e-01, -1.35546580e-01,\n         1.50908902e-01,  6.12446591e-02,  9.24444422e-02,\n         1.55432746e-01,  4.54513915e-02, -1.26527280e-01,\n         1.26205713e-01,  2.00633351e-02,  4.63464372e-02,\n        -5.93725555e-02,  1.09238282e-01, -3.73847336e-02,\n        -4.08829637e-02,  8.96554217e-02,  8.19923729e-02,\n        -1.43520636e-02, -4.92961407e-02,  6.31138235e-02,\n        -9.07123834e-02,  1.62208267e-02, -9.41456258e-02,\n        -2.93568820e-02, -8.86616483e-02,  4.11055647e-02,\n        -6.57824874e-02,  9.75938663e-02,  1.34489894e-01,\n         1.08053043e-01,  2.26636976e-02,  1.39663607e-01,\n         9.61459875e-02],\n       [-1.29358703e-02,  2.13091485e-02,  6.21400364e-02,\n         1.55812390e-02, -2.71330643e-02,  1.98634136e-02,\n         3.41087324e-03, -1.98612502e-03, -3.07710245e-02,\n        -3.79374251e-02, -2.94168089e-02, -5.28074056e-03,\n         8.54178704e-03, -9.25093889e-03, -3.64204939e-03,\n        -9.59879439e-03,  3.55749428e-02, -1.86169185e-02,\n        -1.14994019e-01,  1.53022278e-02,  5.61670773e-02,\n         4.91471542e-03,  1.37190163e-01, -2.04428583e-02,\n         3.51040587e-02,  6.79035559e-02, -3.82886864e-02,\n         1.75785681e-03, -1.09642325e-02,  2.30229297e-03,\n        -4.94781695e-02, -6.83665127e-02, -2.27005854e-02,\n         8.28775286e-04, -5.34414351e-02,  2.62060426e-02,\n         1.02908887e-01,  7.46849105e-02, -8.83022975e-03,\n         8.13116953e-02, -1.42215313e-02,  5.14936820e-02,\n        -3.09857205e-02, -2.00249720e-02,  3.86773273e-02,\n         2.43460312e-02, -7.51981065e-02, -2.07036007e-02,\n         4.03245538e-02,  4.87038866e-02, -3.15820165e-02,\n        -4.01076227e-02, -3.08904666e-02, -1.21217892e-02,\n         6.33635446e-02,  4.61955881e-03,  1.04627162e-01,\n        -3.99610437e-02, -2.90638255e-03, -7.09561780e-02,\n        -5.03253043e-02,  9.09126550e-03, -1.45697528e-02,\n        -4.20459546e-02,  1.84454788e-02,  1.03544705e-01,\n         7.49037741e-03,  1.18582593e-02,  8.80777761e-02,\n        -6.64396435e-02,  6.85816780e-02,  4.19187695e-02,\n        -3.04695597e-04,  1.81608610e-02,  4.94524315e-02,\n         6.25891238e-02,  5.87145016e-02,  1.77118424e-02,\n        -2.79837064e-02, -1.97376385e-02, -6.64265454e-02,\n         9.08695906e-02,  8.15148279e-02,  7.69271469e-03,\n        -8.83826911e-02,  8.33023340e-03,  1.00313453e-02,\n         1.57788265e-02, -9.65771005e-02,  5.56940436e-02,\n         4.37003374e-03, -9.45013668e-03,  2.68898457e-02,\n        -7.73523524e-02,  5.22635356e-02,  5.13905846e-02,\n        -3.09155136e-02,  1.76272001e-02, -2.76564863e-02,\n         6.78868666e-02]], dtype=float32)"
     },
     "execution_count": 19,
     "metadata": {},
     "output_type": "execute_result"
    }
   ],
   "source": [
    "embeddings[:5]"
   ],
   "metadata": {
    "collapsed": false,
    "ExecuteTime": {
     "start_time": "2023-03-31T14:14:05.855018Z",
     "end_time": "2023-03-31T14:14:05.862280Z"
    }
   }
  },
  {
   "cell_type": "code",
   "execution_count": 4,
   "outputs": [],
   "source": [
    "df = pd.DataFrame(embeddings)"
   ],
   "metadata": {
    "collapsed": false,
    "ExecuteTime": {
     "start_time": "2023-03-31T16:22:03.564448Z",
     "end_time": "2023-03-31T16:22:11.061273Z"
    }
   }
  },
  {
   "cell_type": "code",
   "execution_count": 5,
   "outputs": [],
   "source": [
    "df.to_pickle('./data/embeddings/test2.pkl')"
   ],
   "metadata": {
    "collapsed": false,
    "ExecuteTime": {
     "start_time": "2023-03-31T16:22:11.065281Z",
     "end_time": "2023-03-31T16:22:11.104611Z"
    }
   }
  },
  {
   "cell_type": "code",
   "execution_count": null,
   "outputs": [],
   "source": [
    "# Define our knowledge graph (here: DBPedia SPARQL endpoint).\n",
    "knowledge_graph = KG(\n",
    "    \"./data/tax_and_subset_NCIT.ttl\",\n",
    ")\n",
    "# Create our transformer, setting the embedding & walking strategy.\n",
    "transformer = RDF2VecTransformer(\n",
    "    Word2Vec(epochs=10),\n",
    "    walkers=[RandomWalker(4, 10, with_reverse=False, n_jobs=3)],\n",
    "    # verbose=1\n",
    ")\n",
    "# Get our embeddings.\n",
    "embeddings, literals = transformer.fit_transform(knowledge_graph, nodes)\n",
    "pprint(embeddings)\n",
    "# [\n",
    "#     array([ 1.5737595e-04,  1.1333118e-03, -2.9838676e-04,  ..., -5.3064007e-04,\n",
    "#             4.3192197e-04,  1.4529384e-03], dtype=float32),\n",
    "#     array([-5.9027621e-04,  6.1689125e-04, -1.1987977e-03,  ...,  1.1066757e-03,\n",
    "#            -1.0603866e-05,  6.6087965e-04], dtype=float32),\n",
    "#     array([ 7.9996325e-04,  7.2907173e-04, -1.9482171e-04,  ...,  5.6251377e-04,\n",
    "#             4.1435464e-04,  1.4478950e-04], dtype=float32)\n",
    "# ]\n",
    "\n",
    "pprint(literals)"
   ],
   "metadata": {
    "collapsed": false,
    "ExecuteTime": {
     "start_time": "2023-03-31T16:05:47.726475Z",
     "end_time": "2023-03-31T16:20:29.678749Z"
    }
   }
  },
  {
   "cell_type": "code",
   "execution_count": 32,
   "outputs": [
    {
     "data": {
      "text/plain": "100"
     },
     "execution_count": 32,
     "metadata": {},
     "output_type": "execute_result"
    }
   ],
   "source": [
    "len(embeddings[0])"
   ],
   "metadata": {
    "collapsed": false
   }
  }
 ],
 "metadata": {
  "kernelspec": {
   "display_name": "Python 3",
   "language": "python",
   "name": "python3"
  },
  "language_info": {
   "codemirror_mode": {
    "name": "ipython",
    "version": 2
   },
   "file_extension": ".py",
   "mimetype": "text/x-python",
   "name": "python",
   "nbconvert_exporter": "python",
   "pygments_lexer": "ipython2",
   "version": "2.7.6"
  }
 },
 "nbformat": 4,
 "nbformat_minor": 0
}
