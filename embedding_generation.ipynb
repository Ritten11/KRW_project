{
 "cells": [
  {
   "cell_type": "code",
   "execution_count": 3,
   "metadata": {
    "collapsed": true
   },
   "outputs": [],
   "source": [
    "import pandas as pd\n",
    "\n",
    "from pyrdf2vec import RDF2VecTransformer\n",
    "from pyrdf2vec.embedders import Word2Vec\n",
    "from pyrdf2vec.graphs import KG\n",
    "from pyrdf2vec.walkers import RandomWalker\n",
    "\n",
    "from pprint import pprint"
   ]
  },
  {
   "cell_type": "code",
   "execution_count": 29,
   "outputs": [
    {
     "name": "stdout",
     "output_type": "stream",
     "text": [
      "['http://ncicb.nci.nih.gov/xml/owl/EVS/Thesaurus.owl#C20181', 'http://ncicb.nci.nih.gov/xml/owl/EVS/Thesaurus.owl#C1908', 'http://ncicb.nci.nih.gov/xml/owl/EVS/Thesaurus.owl#C17828', 'http://ncicb.nci.nih.gov/xml/owl/EVS/Thesaurus.owl#C22188', 'http://ncicb.nci.nih.gov/xml/owl/EVS/Thesaurus.owl#C14250', 'http://ncicb.nci.nih.gov/xml/owl/EVS/Thesaurus.owl#C97325', 'http://ncicb.nci.nih.gov/xml/owl/EVS/Thesaurus.owl#C12218', 'http://ncicb.nci.nih.gov/xml/owl/EVS/Thesaurus.owl#C43431', 'http://ncicb.nci.nih.gov/xml/owl/EVS/Thesaurus.owl#C3910', 'http://ncicb.nci.nih.gov/xml/owl/EVS/Thesaurus.owl#C28428', 'http://ncicb.nci.nih.gov/xml/owl/EVS/Thesaurus.owl#C20189', 'http://ncicb.nci.nih.gov/xml/owl/EVS/Thesaurus.owl#C16612', 'http://ncicb.nci.nih.gov/xml/owl/EVS/Thesaurus.owl#C20047', 'http://ncicb.nci.nih.gov/xml/owl/EVS/Thesaurus.owl#C7057', 'http://ncicb.nci.nih.gov/xml/owl/EVS/Thesaurus.owl#C26548', 'http://ncicb.nci.nih.gov/xml/owl/EVS/Thesaurus.owl#C12913', 'http://ncicb.nci.nih.gov/xml/owl/EVS/Thesaurus.owl#C20633', 'http://ncicb.nci.nih.gov/xml/owl/EVS/Thesaurus.owl#C12219', 'http://ncicb.nci.nih.gov/xml/owl/EVS/Thesaurus.owl#C22187']\n"
     ]
    }
   ],
   "source": [
    "data = pd.read_csv(\"taxonomy_ranks/rank_0.csv\", sep=\",\",)\n",
    "entities = [entity[1][0] for entity in data[data.columns[1:]].iterrows()]\n",
    "print(entities)"
   ],
   "metadata": {
    "collapsed": false
   }
  },
  {
   "cell_type": "code",
   "execution_count": 17,
   "outputs": [
    {
     "ename": "KeyError",
     "evalue": "0",
     "output_type": "error",
     "traceback": [
      "\u001B[0;31m---------------------------------------------------------------------------\u001B[0m",
      "\u001B[0;31mKeyError\u001B[0m                                  Traceback (most recent call last)",
      "File \u001B[0;32m~/.pyenv/versions/3.9.2/envs/KRW-3.9.2/lib/python3.9/site-packages/pandas/core/indexes/base.py:3802\u001B[0m, in \u001B[0;36mIndex.get_loc\u001B[0;34m(self, key, method, tolerance)\u001B[0m\n\u001B[1;32m   3801\u001B[0m \u001B[38;5;28;01mtry\u001B[39;00m:\n\u001B[0;32m-> 3802\u001B[0m     \u001B[38;5;28;01mreturn\u001B[39;00m \u001B[38;5;28;43mself\u001B[39;49m\u001B[38;5;241;43m.\u001B[39;49m\u001B[43m_engine\u001B[49m\u001B[38;5;241;43m.\u001B[39;49m\u001B[43mget_loc\u001B[49m\u001B[43m(\u001B[49m\u001B[43mcasted_key\u001B[49m\u001B[43m)\u001B[49m\n\u001B[1;32m   3803\u001B[0m \u001B[38;5;28;01mexcept\u001B[39;00m \u001B[38;5;167;01mKeyError\u001B[39;00m \u001B[38;5;28;01mas\u001B[39;00m err:\n",
      "File \u001B[0;32m~/.pyenv/versions/3.9.2/envs/KRW-3.9.2/lib/python3.9/site-packages/pandas/_libs/index.pyx:138\u001B[0m, in \u001B[0;36mpandas._libs.index.IndexEngine.get_loc\u001B[0;34m()\u001B[0m\n",
      "File \u001B[0;32m~/.pyenv/versions/3.9.2/envs/KRW-3.9.2/lib/python3.9/site-packages/pandas/_libs/index.pyx:165\u001B[0m, in \u001B[0;36mpandas._libs.index.IndexEngine.get_loc\u001B[0;34m()\u001B[0m\n",
      "File \u001B[0;32mpandas/_libs/hashtable_class_helper.pxi:5745\u001B[0m, in \u001B[0;36mpandas._libs.hashtable.PyObjectHashTable.get_item\u001B[0;34m()\u001B[0m\n",
      "File \u001B[0;32mpandas/_libs/hashtable_class_helper.pxi:5753\u001B[0m, in \u001B[0;36mpandas._libs.hashtable.PyObjectHashTable.get_item\u001B[0;34m()\u001B[0m\n",
      "\u001B[0;31mKeyError\u001B[0m: 0",
      "\nThe above exception was the direct cause of the following exception:\n",
      "\u001B[0;31mKeyError\u001B[0m                                  Traceback (most recent call last)",
      "Cell \u001B[0;32mIn[17], line 1\u001B[0m\n\u001B[0;32m----> 1\u001B[0m \u001B[43mdata\u001B[49m\u001B[43m[\u001B[49m\u001B[43mdata\u001B[49m\u001B[38;5;241;43m.\u001B[39;49m\u001B[43mcolumns\u001B[49m\u001B[43m[\u001B[49m\u001B[38;5;241;43m1\u001B[39;49m\u001B[43m:\u001B[49m\u001B[43m]\u001B[49m\u001B[43m]\u001B[49m\u001B[43m[\u001B[49m\u001B[38;5;241;43m0\u001B[39;49m\u001B[43m]\u001B[49m\n",
      "File \u001B[0;32m~/.pyenv/versions/3.9.2/envs/KRW-3.9.2/lib/python3.9/site-packages/pandas/core/frame.py:3807\u001B[0m, in \u001B[0;36mDataFrame.__getitem__\u001B[0;34m(self, key)\u001B[0m\n\u001B[1;32m   3805\u001B[0m \u001B[38;5;28;01mif\u001B[39;00m \u001B[38;5;28mself\u001B[39m\u001B[38;5;241m.\u001B[39mcolumns\u001B[38;5;241m.\u001B[39mnlevels \u001B[38;5;241m>\u001B[39m \u001B[38;5;241m1\u001B[39m:\n\u001B[1;32m   3806\u001B[0m     \u001B[38;5;28;01mreturn\u001B[39;00m \u001B[38;5;28mself\u001B[39m\u001B[38;5;241m.\u001B[39m_getitem_multilevel(key)\n\u001B[0;32m-> 3807\u001B[0m indexer \u001B[38;5;241m=\u001B[39m \u001B[38;5;28;43mself\u001B[39;49m\u001B[38;5;241;43m.\u001B[39;49m\u001B[43mcolumns\u001B[49m\u001B[38;5;241;43m.\u001B[39;49m\u001B[43mget_loc\u001B[49m\u001B[43m(\u001B[49m\u001B[43mkey\u001B[49m\u001B[43m)\u001B[49m\n\u001B[1;32m   3808\u001B[0m \u001B[38;5;28;01mif\u001B[39;00m is_integer(indexer):\n\u001B[1;32m   3809\u001B[0m     indexer \u001B[38;5;241m=\u001B[39m [indexer]\n",
      "File \u001B[0;32m~/.pyenv/versions/3.9.2/envs/KRW-3.9.2/lib/python3.9/site-packages/pandas/core/indexes/base.py:3804\u001B[0m, in \u001B[0;36mIndex.get_loc\u001B[0;34m(self, key, method, tolerance)\u001B[0m\n\u001B[1;32m   3802\u001B[0m     \u001B[38;5;28;01mreturn\u001B[39;00m \u001B[38;5;28mself\u001B[39m\u001B[38;5;241m.\u001B[39m_engine\u001B[38;5;241m.\u001B[39mget_loc(casted_key)\n\u001B[1;32m   3803\u001B[0m \u001B[38;5;28;01mexcept\u001B[39;00m \u001B[38;5;167;01mKeyError\u001B[39;00m \u001B[38;5;28;01mas\u001B[39;00m err:\n\u001B[0;32m-> 3804\u001B[0m     \u001B[38;5;28;01mraise\u001B[39;00m \u001B[38;5;167;01mKeyError\u001B[39;00m(key) \u001B[38;5;28;01mfrom\u001B[39;00m \u001B[38;5;21;01merr\u001B[39;00m\n\u001B[1;32m   3805\u001B[0m \u001B[38;5;28;01mexcept\u001B[39;00m \u001B[38;5;167;01mTypeError\u001B[39;00m:\n\u001B[1;32m   3806\u001B[0m     \u001B[38;5;66;03m# If we have a listlike key, _check_indexing_error will raise\u001B[39;00m\n\u001B[1;32m   3807\u001B[0m     \u001B[38;5;66;03m#  InvalidIndexError. Otherwise we fall through and re-raise\u001B[39;00m\n\u001B[1;32m   3808\u001B[0m     \u001B[38;5;66;03m#  the TypeError.\u001B[39;00m\n\u001B[1;32m   3809\u001B[0m     \u001B[38;5;28mself\u001B[39m\u001B[38;5;241m.\u001B[39m_check_indexing_error(key)\n",
      "\u001B[0;31mKeyError\u001B[0m: 0"
     ]
    }
   ],
   "source": [],
   "metadata": {
    "collapsed": false
   }
  },
  {
   "cell_type": "code",
   "execution_count": 31,
   "outputs": [
    {
     "name": "stdout",
     "output_type": "stream",
     "text": [
      "['http://ncicb.nci.nih.gov/xml/owl/EVS/Thesaurus.owl#C20181', 'http://ncicb.nci.nih.gov/xml/owl/EVS/Thesaurus.owl#C1908', 'http://ncicb.nci.nih.gov/xml/owl/EVS/Thesaurus.owl#C17828', 'http://ncicb.nci.nih.gov/xml/owl/EVS/Thesaurus.owl#C22188', 'http://ncicb.nci.nih.gov/xml/owl/EVS/Thesaurus.owl#C14250']\n",
      "[array([ 9.7702928e-03,  8.1651136e-03,  1.2809718e-03,  5.0975787e-03,\n",
      "        1.4081288e-03, -6.4551616e-03, -1.4280510e-03,  6.4491653e-03,\n",
      "       -4.6173059e-03, -3.9930656e-03,  4.9244044e-03,  2.7130984e-03,\n",
      "       -1.8479753e-03, -2.8769434e-03,  6.0107317e-03, -5.7167388e-03,\n",
      "       -3.2367026e-03, -6.4878250e-03, -4.2346325e-03, -8.5809948e-03,\n",
      "       -4.4697891e-03, -8.5112294e-03,  1.4037776e-03, -8.6181965e-03,\n",
      "       -9.9166557e-03, -8.2016252e-03, -6.7726658e-03,  6.6805850e-03,\n",
      "        3.7845564e-03,  3.5616636e-04, -2.9579818e-03, -7.4283206e-03,\n",
      "        5.3341867e-04,  4.9989222e-04,  1.9561886e-04,  8.5259555e-04,\n",
      "        7.8633073e-04, -6.8160298e-05, -8.0070542e-03, -5.8702733e-03,\n",
      "       -8.3829118e-03, -1.3120425e-03,  1.8206370e-03,  7.4171280e-03,\n",
      "       -1.9634271e-03, -2.3252917e-03,  9.4871549e-03,  7.9704521e-05,\n",
      "       -2.4045217e-03,  8.6048469e-03,  2.6870037e-03, -5.3439722e-03,\n",
      "        6.5881060e-03,  4.5101536e-03, -7.0544672e-03, -3.2317400e-04,\n",
      "        8.3448651e-04,  5.7473574e-03, -1.7176545e-03, -2.8065301e-03,\n",
      "        1.7484308e-03,  8.4717153e-04,  1.1928272e-03, -2.6342822e-03,\n",
      "       -5.9857843e-03,  7.3229838e-03,  7.5873756e-03,  8.2963575e-03,\n",
      "       -8.5988473e-03,  2.6364254e-03, -3.5599626e-03,  9.6204039e-03,\n",
      "        2.9037679e-03,  4.6411133e-03,  2.3856151e-03,  6.6084778e-03,\n",
      "       -5.7432903e-03,  7.8944126e-03, -2.4109220e-03, -4.5618857e-03,\n",
      "       -2.0609903e-03,  9.7335577e-03, -6.8565905e-03, -2.1917201e-03,\n",
      "        7.0009995e-03, -5.5749417e-05, -6.2949671e-03, -6.3935257e-03,\n",
      "        8.9403950e-03,  6.4295758e-03,  4.7735930e-03, -3.2620477e-03,\n",
      "       -9.2676198e-03,  3.7868882e-03,  7.1605504e-03, -5.6328895e-03,\n",
      "       -7.8650126e-03, -2.9727400e-03, -4.9318983e-03, -2.3151112e-03],\n",
      "      dtype=float32),\n",
      " array([ 7.0887972e-03, -1.5679300e-03,  7.9474989e-03, -9.4886590e-03,\n",
      "       -8.0294991e-03, -6.6403709e-03, -4.0034545e-03,  4.9892161e-03,\n",
      "       -3.8135587e-03, -8.3199050e-03,  8.4117772e-03, -3.7470020e-03,\n",
      "        8.6086961e-03, -4.8957514e-03,  3.9185942e-03,  4.9220170e-03,\n",
      "        2.3926091e-03, -2.8188038e-03,  2.8491246e-03, -8.2562361e-03,\n",
      "       -2.7655398e-03, -2.5911583e-03,  7.2490061e-03, -3.4634031e-03,\n",
      "       -6.5997029e-03,  4.3404270e-03, -4.7448516e-04, -3.5975564e-03,\n",
      "        6.8824720e-03,  3.8723124e-03, -3.9002013e-03,  7.7188847e-04,\n",
      "        9.1435025e-03,  7.7546560e-03,  6.3618720e-03,  4.6673026e-03,\n",
      "        2.3844899e-03, -1.8416261e-03, -6.3712932e-03, -3.0181051e-04,\n",
      "       -1.5653884e-03, -5.7228567e-04, -6.2628710e-03,  7.4340473e-03,\n",
      "       -6.5914928e-03, -7.2392775e-03, -2.7571463e-03, -1.5154004e-03,\n",
      "       -7.6357173e-03,  6.9824100e-04, -5.3261113e-03, -1.2755442e-03,\n",
      "       -7.3651113e-03,  1.9605684e-03,  3.2731986e-03, -2.3138524e-05,\n",
      "       -5.4483581e-03, -1.7260861e-03,  7.0849168e-03,  3.7362587e-03,\n",
      "       -8.8810492e-03, -3.4135508e-03,  2.3541022e-03,  2.1380198e-03,\n",
      "       -9.4640078e-03,  4.5711659e-03, -8.6569972e-03, -7.3870681e-03,\n",
      "        3.4831120e-03, -3.4709584e-03,  3.5644709e-03,  8.8940905e-03,\n",
      "       -3.5743224e-03,  9.3204249e-03,  1.7110384e-03,  9.8477742e-03,\n",
      "        5.7050432e-03, -9.1494834e-03, -3.3277308e-03,  6.5301750e-03,\n",
      "        5.6027793e-03,  8.7055154e-03,  6.9261026e-03,  8.0388878e-03,\n",
      "       -9.8230084e-03,  4.2988253e-03, -5.0300765e-03,  3.5123860e-03,\n",
      "        6.0566878e-03,  4.3921317e-03,  7.5123594e-03,  1.4977157e-03,\n",
      "       -1.2649416e-03,  5.7684006e-03, -5.6395675e-03,  3.8591625e-05,\n",
      "        9.4565870e-03, -5.4812501e-03,  3.8142789e-03, -8.1130210e-03],\n",
      "      dtype=float32),\n",
      " array([-0.00515624, -0.00666834, -0.00777684,  0.00831073, -0.00198234,\n",
      "       -0.00685496, -0.00415439,  0.00514413, -0.00286914, -0.00374966,\n",
      "        0.00162143, -0.00277629, -0.00158436,  0.00107449, -0.00297794,\n",
      "        0.00851928,  0.00391094, -0.00995886,  0.0062596 , -0.00675425,\n",
      "        0.00076943,  0.00440423, -0.00510337, -0.00211067,  0.00809548,\n",
      "       -0.00424379, -0.00763626,  0.00925791, -0.0021555 , -0.00471943,\n",
      "        0.0085708 ,  0.00428334,  0.00432484,  0.00928451, -0.00845308,\n",
      "        0.00525532,  0.00203935,  0.00418828,  0.0016979 ,  0.00446413,\n",
      "        0.00448629,  0.00610452, -0.0032021 , -0.00457573, -0.00042652,\n",
      "        0.00253373, -0.00326317,  0.00605772,  0.00415413,  0.00776459,\n",
      "        0.00256927,  0.00811668, -0.00138721,  0.00807793,  0.00371702,\n",
      "       -0.00804732, -0.00393361, -0.00247188,  0.00489304, -0.00087216,\n",
      "       -0.00283091,  0.00783371,  0.0093229 , -0.00161493, -0.00515925,\n",
      "       -0.00470176, -0.00484605, -0.00960283,  0.00137202, -0.00422492,\n",
      "        0.00252671,  0.00561448, -0.00406591, -0.00959658,  0.0015467 ,\n",
      "       -0.00670012,  0.00249517, -0.00378063,  0.00707842,  0.00064022,\n",
      "        0.00356094, -0.00273913, -0.00171055,  0.00765279,  0.00140768,\n",
      "       -0.00585045, -0.0078345 ,  0.00123269,  0.00645463,  0.00555635,\n",
      "       -0.00897705,  0.00859216,  0.00404698,  0.00746961,  0.00974633,\n",
      "       -0.00728958, -0.00903996,  0.005836  ,  0.00939121,  0.00350693],\n",
      "      dtype=float32),\n",
      " array([-9.5785465e-03,  8.9431154e-03,  4.1650687e-03,  9.2347348e-03,\n",
      "        6.6435025e-03,  2.9247368e-03,  9.8040197e-03, -4.4246409e-03,\n",
      "       -6.8033109e-03,  4.2273807e-03,  3.7290000e-03, -5.6646108e-03,\n",
      "        9.7047603e-03, -3.5583067e-03,  9.5494064e-03,  8.3472609e-04,\n",
      "       -6.3384566e-03, -1.9771170e-03, -7.3770545e-03, -2.9795230e-03,\n",
      "        1.0416972e-03,  9.4826873e-03,  9.3558477e-03, -6.5958775e-03,\n",
      "        3.4751510e-03,  2.2755705e-03, -2.4893521e-03, -9.2291720e-03,\n",
      "        1.0271263e-03, -8.1657059e-03,  6.3201892e-03, -5.8000805e-03,\n",
      "        5.5354391e-03,  9.8337233e-03, -1.6000033e-04,  4.5284927e-03,\n",
      "       -1.8094003e-03,  7.3607611e-03,  3.9400971e-03, -9.0103243e-03,\n",
      "       -2.3985039e-03,  3.6287690e-03, -9.9568366e-05, -1.2012708e-03,\n",
      "       -1.0554385e-03, -1.6716016e-03,  6.0495257e-04,  4.1650953e-03,\n",
      "       -4.2527914e-03, -3.8336217e-03, -5.2816868e-05,  2.6935578e-04,\n",
      "       -1.6880632e-04, -4.7855065e-03,  4.3134023e-03, -2.1719194e-03,\n",
      "        2.1035396e-03,  6.6652300e-04,  5.9696771e-03, -6.8423809e-03,\n",
      "       -6.8157101e-03, -4.4762576e-03,  9.4358288e-03, -1.5918827e-03,\n",
      "       -9.4292425e-03, -5.4504158e-04, -4.4489228e-03,  6.0000787e-03,\n",
      "       -9.5836855e-03,  2.8590010e-03, -9.2528323e-03,  1.2498009e-03,\n",
      "        5.9991982e-03,  7.3973476e-03, -7.6214634e-03, -6.0530235e-03,\n",
      "       -6.8384409e-03, -7.9183402e-03, -9.4990805e-03, -2.1254970e-03,\n",
      "       -8.3593250e-04, -7.2562015e-03,  6.7870365e-03,  1.1196196e-03,\n",
      "        5.8288667e-03,  1.4728665e-03,  7.8936579e-04, -7.3681297e-03,\n",
      "       -2.1766580e-03,  4.3210792e-03, -5.0853146e-03,  1.1307895e-03,\n",
      "        2.8833640e-03, -1.5363609e-03,  9.9322954e-03,  8.3496347e-03,\n",
      "        2.4156666e-03,  7.1182456e-03,  5.8914376e-03, -5.5806171e-03],\n",
      "      dtype=float32),\n",
      " array([-8.6509390e-03,  3.6808131e-03,  5.1719937e-03,  5.7429112e-03,\n",
      "        7.4666715e-03, -6.1664963e-03,  1.1105994e-03,  6.0581560e-03,\n",
      "       -2.8593570e-03, -6.1665419e-03, -4.2160595e-04, -8.3536310e-03,\n",
      "       -5.6388662e-03,  7.1124048e-03,  3.3449987e-03,  7.2211595e-03,\n",
      "        6.8115657e-03,  7.5541236e-03, -3.7835478e-03, -5.9345050e-04,\n",
      "        2.3655295e-03, -4.5352713e-03,  8.4334807e-03, -9.8256692e-03,\n",
      "        6.7690816e-03,  2.9278593e-03, -4.9449061e-03,  4.4146175e-03,\n",
      "       -1.7693383e-03,  6.7203459e-03,  9.9863727e-03, -4.3501831e-03,\n",
      "       -5.8127596e-04, -5.7364404e-03,  3.8779913e-03,  2.7654737e-03,\n",
      "        6.8823979e-03,  6.1109569e-03,  9.5351823e-03,  9.2741763e-03,\n",
      "        7.8990823e-03, -7.0096324e-03, -9.1843205e-03, -3.3357865e-04,\n",
      "       -3.0833916e-03,  7.8712646e-03,  5.9370641e-03, -1.5419292e-03,\n",
      "        1.5343158e-03,  1.7768492e-03,  7.8239283e-03, -9.4998553e-03,\n",
      "       -1.9293527e-04,  3.4566699e-03, -9.4119669e-04,  8.3616851e-03,\n",
      "        8.9951586e-03,  6.5080072e-03, -7.1948016e-04,  7.7113984e-03,\n",
      "       -8.5207652e-03,  3.1974509e-03, -4.6273312e-03, -5.0843908e-03,\n",
      "        3.5887256e-03,  5.3717750e-03,  7.8047686e-03, -5.7312199e-03,\n",
      "        7.4226353e-03,  6.6474164e-03, -3.7210386e-03, -8.7282294e-03,\n",
      "        5.4209074e-03,  6.5186610e-03, -7.6545461e-04, -6.6874526e-03,\n",
      "       -7.0876717e-03, -2.4668470e-03,  5.1638982e-03, -3.7039544e-03,\n",
      "       -9.3964096e-03,  3.8055410e-03,  4.9060672e-03, -6.4225793e-03,\n",
      "        1.1868135e-03, -2.0941996e-03,  7.0302121e-05, -9.8763062e-03,\n",
      "        2.6613185e-03, -4.7690994e-03,  1.1053272e-03, -1.5832488e-03,\n",
      "        2.2148273e-03, -7.8972578e-03, -2.7054313e-03,  2.6416960e-03,\n",
      "        5.3709215e-03, -2.3926983e-03, -9.5171239e-03,  4.5333751e-03],\n",
      "      dtype=float32)]\n",
      "[]\n"
     ]
    }
   ],
   "source": [
    "# Read a CSV file containing the entities we want to classify.\n",
    "data = pd.read_csv(\"taxonomy_ranks/rank_0.csv\", sep=\",\",)\n",
    "entities = [entity[1][0] for entity in data[data.columns[1:]].iterrows()]\n",
    "entities = entities[:5]\n",
    "print(entities)\n",
    "# [\n",
    "#    \"http://dbpedia.org/resource/Belgium\",\n",
    "#    \"http://dbpedia.org/resource/France\",\n",
    "#    \"http://dbpedia.org/resource/Germany\",\n",
    "# ]\n",
    "\n",
    "# Define our knowledge graph (here: DBPedia SPARQL endpoint).\n",
    "knowledge_graph = KG(\n",
    "    \"./data/tax_and_subset_NCIT.owl\",\n",
    ")\n",
    "# Create our transformer, setting the embedding & walking strategy.\n",
    "transformer = RDF2VecTransformer(\n",
    "    Word2Vec(epochs=10),\n",
    "    walkers=[RandomWalker(4, 10, with_reverse=False, n_jobs=2)],\n",
    "    # verbose=1\n",
    ")\n",
    "# Get our embeddings.\n",
    "embeddings, literals = transformer.fit_transform(knowledge_graph, entities)\n",
    "pprint(embeddings)\n",
    "# [\n",
    "#     array([ 1.5737595e-04,  1.1333118e-03, -2.9838676e-04,  ..., -5.3064007e-04,\n",
    "#             4.3192197e-04,  1.4529384e-03], dtype=float32),\n",
    "#     array([-5.9027621e-04,  6.1689125e-04, -1.1987977e-03,  ...,  1.1066757e-03,\n",
    "#            -1.0603866e-05,  6.6087965e-04], dtype=float32),\n",
    "#     array([ 7.9996325e-04,  7.2907173e-04, -1.9482171e-04,  ...,  5.6251377e-04,\n",
    "#             4.1435464e-04,  1.4478950e-04], dtype=float32)\n",
    "# ]\n",
    "\n",
    "pprint(literals)"
   ],
   "metadata": {
    "collapsed": false
   }
  },
  {
   "cell_type": "code",
   "execution_count": 32,
   "outputs": [
    {
     "data": {
      "text/plain": "100"
     },
     "execution_count": 32,
     "metadata": {},
     "output_type": "execute_result"
    }
   ],
   "source": [
    "len(embeddings[0])"
   ],
   "metadata": {
    "collapsed": false
   }
  }
 ],
 "metadata": {
  "kernelspec": {
   "display_name": "Python 3",
   "language": "python",
   "name": "python3"
  },
  "language_info": {
   "codemirror_mode": {
    "name": "ipython",
    "version": 2
   },
   "file_extension": ".py",
   "mimetype": "text/x-python",
   "name": "python",
   "nbconvert_exporter": "python",
   "pygments_lexer": "ipython2",
   "version": "2.7.6"
  }
 },
 "nbformat": 4,
 "nbformat_minor": 0
}
